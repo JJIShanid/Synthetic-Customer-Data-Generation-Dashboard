{
 "cells": [
  {
   "cell_type": "code",
   "execution_count": 1,
   "id": "ca5c45ed",
   "metadata": {},
   "outputs": [],
   "source": [
    "import pandas as pd\n",
    "import numpy as np\n",
    "import torch\n",
    "import torch.nn as nn\n",
    "import torch.optim as optim\n",
    "from sklearn.preprocessing import MinMaxScaler, LabelEncoder\n",
    "from torch.utils.data import DataLoader, TensorDataset"
   ]
  },
  {
   "cell_type": "code",
   "execution_count": 2,
   "id": "ca10541f",
   "metadata": {},
   "outputs": [],
   "source": [
    "# Load dataset\n",
    "data = pd.read_csv(r\"C:\\Users\\asus\\Desktop\\Masters Project & Thesis\\Master Projects\\Churn Marketing project\\WA_Fn-UseC_-Telco-Customer-Churn.csv\")"
   ]
  },
  {
   "cell_type": "code",
   "execution_count": 3,
   "id": "0f4ed6fc",
   "metadata": {},
   "outputs": [],
   "source": [
    "# Select important features\n",
    "features = ['gender', 'SeniorCitizen', 'tenure', 'MonthlyCharges', 'TotalCharges', 'Contract', 'PaymentMethod']\n",
    "df = data[features].dropna()"
   ]
  },
  {
   "cell_type": "code",
   "execution_count": 4,
   "id": "130f46d2",
   "metadata": {},
   "outputs": [],
   "source": [
    "# Encode categorical features\n",
    "label_encoders = {}\n",
    "for col in ['gender', 'Contract', 'PaymentMethod']:\n",
    "    le = LabelEncoder()\n",
    "    df[col] = le.fit_transform(df[col])\n",
    "    label_encoders[col] = le"
   ]
  },
  {
   "cell_type": "code",
   "execution_count": 6,
   "id": "936c382f",
   "metadata": {},
   "outputs": [],
   "source": [
    "# Clean TotalCharges column\n",
    "df['TotalCharges'] = df['TotalCharges'].replace(' ', np.nan)\n",
    "df['TotalCharges'] = df['TotalCharges'].astype(float)\n",
    "\n",
    "# Drop rows with NaN (if any)\n",
    "df = df.dropna(subset=['TotalCharges'])\n",
    "\n",
    "# Normalize numerical features\n",
    "scaler = MinMaxScaler()\n",
    "df[['tenure', 'MonthlyCharges', 'TotalCharges']] = scaler.fit_transform(df[['tenure', 'MonthlyCharges', 'TotalCharges']])\n"
   ]
  },
  {
   "cell_type": "code",
   "execution_count": 7,
   "id": "7d951d6f",
   "metadata": {},
   "outputs": [],
   "source": [
    "# Convert to tensor\n",
    "data_tensor = torch.tensor(df.values, dtype=torch.float32)\n"
   ]
  },
  {
   "cell_type": "code",
   "execution_count": 8,
   "id": "c2a04f01",
   "metadata": {},
   "outputs": [],
   "source": [
    "# Create DataLoader\n",
    "batch_size = 64\n",
    "dataset = TensorDataset(data_tensor)\n",
    "dataloader = DataLoader(dataset, batch_size=batch_size, shuffle=True)\n"
   ]
  },
  {
   "cell_type": "code",
   "execution_count": 9,
   "id": "633af447",
   "metadata": {},
   "outputs": [],
   "source": [
    "# 3. Define GAN Architecture\n",
    "input_dim = df.shape[1]\n",
    "latent_dim = 16\n",
    "\n",
    "class Generator(nn.Module):\n",
    "    def __init__(self, latent_dim, output_dim):\n",
    "        super(Generator, self).__init__()\n",
    "        self.model = nn.Sequential(\n",
    "            nn.Linear(latent_dim, 64),\n",
    "            nn.LeakyReLU(0.2),\n",
    "            nn.Linear(64, 128),\n",
    "            nn.LeakyReLU(0.2),\n",
    "            nn.Linear(128, output_dim),\n",
    "            nn.Sigmoid()\n",
    "        )\n",
    "    def forward(self, z):\n",
    "        return self.model(z)\n",
    "\n",
    "class Discriminator(nn.Module):\n",
    "    def __init__(self, input_dim):\n",
    "        super(Discriminator, self).__init__()\n",
    "        self.model = nn.Sequential(\n",
    "            nn.Linear(input_dim, 128),\n",
    "            nn.LeakyReLU(0.2),\n",
    "            nn.Linear(128, 64),\n",
    "            nn.LeakyReLU(0.2),\n",
    "            nn.Linear(64, 1),\n",
    "            nn.Sigmoid()\n",
    "        )\n",
    "    def forward(self, x):\n",
    "        return self.model(x)\n",
    "\n",
    "generator = Generator(latent_dim, input_dim)\n",
    "discriminator = Discriminator(input_dim)"
   ]
  },
  {
   "cell_type": "code",
   "execution_count": 10,
   "id": "80601af9",
   "metadata": {},
   "outputs": [],
   "source": [
    "# Loss and Optimizers\n",
    "criterion = nn.BCELoss()\n",
    "optimizer_g = optim.Adam(generator.parameters(), lr=0.0002)\n",
    "optimizer_d = optim.Adam(discriminator.parameters(), lr=0.0002)"
   ]
  },
  {
   "cell_type": "code",
   "execution_count": 11,
   "id": "a9e37f9d",
   "metadata": {},
   "outputs": [
    {
     "name": "stdout",
     "output_type": "stream",
     "text": [
      "Epoch [0/300] | D Loss: 1.1183 | G Loss: 0.7629\n",
      "Epoch [50/300] | D Loss: 0.2600 | G Loss: 2.4793\n",
      "Epoch [100/300] | D Loss: 0.1243 | G Loss: 2.9251\n",
      "Epoch [150/300] | D Loss: 0.3329 | G Loss: 2.5750\n",
      "Epoch [200/300] | D Loss: 0.2703 | G Loss: 2.6475\n",
      "Epoch [250/300] | D Loss: 0.3726 | G Loss: 2.8546\n"
     ]
    }
   ],
   "source": [
    "# 4. Train GAN\n",
    "epochs = 300\n",
    "for epoch in range(epochs):\n",
    "    for real_data in dataloader:\n",
    "        real_data = real_data[0]\n",
    "        batch_size = real_data.size(0)\n",
    "\n",
    "        # Real and Fake labels\n",
    "        real_labels = torch.ones(batch_size, 1)\n",
    "        fake_labels = torch.zeros(batch_size, 1)\n",
    "\n",
    "        # Train Discriminator\n",
    "        optimizer_d.zero_grad()\n",
    "        outputs = discriminator(real_data)\n",
    "        loss_real = criterion(outputs, real_labels)\n",
    "\n",
    "        z = torch.randn(batch_size, latent_dim)\n",
    "        fake_data = generator(z)\n",
    "        outputs = discriminator(fake_data.detach())\n",
    "        loss_fake = criterion(outputs, fake_labels)\n",
    "\n",
    "        d_loss = loss_real + loss_fake\n",
    "        d_loss.backward()\n",
    "        optimizer_d.step()\n",
    "\n",
    "        # Train Generator\n",
    "        optimizer_g.zero_grad()\n",
    "        outputs = discriminator(fake_data)\n",
    "        g_loss = criterion(outputs, real_labels)\n",
    "        g_loss.backward()\n",
    "        optimizer_g.step()\n",
    "\n",
    "    if epoch % 50 == 0:\n",
    "        print(f\"Epoch [{epoch}/{epochs}] | D Loss: {d_loss.item():.4f} | G Loss: {g_loss.item():.4f}\")\n"
   ]
  },
  {
   "cell_type": "code",
   "execution_count": 12,
   "id": "5be7c0de",
   "metadata": {},
   "outputs": [],
   "source": [
    "# 5. Generate Synthetic Data\n",
    "z = torch.randn(1000, latent_dim)\n",
    "synthetic_data = generator(z).detach().numpy()\n",
    "\n",
    "# Convert back to DataFrame\n",
    "synthetic_df = pd.DataFrame(synthetic_data, columns=df.columns)\n",
    "\n",
    "# Inverse transform numerical features\n",
    "synthetic_df[['tenure', 'MonthlyCharges', 'TotalCharges']] = scaler.inverse_transform(synthetic_df[['tenure', 'MonthlyCharges', 'TotalCharges']])\n",
    "\n",
    "# Decode categorical features\n",
    "for col in ['gender', 'Contract', 'PaymentMethod']:\n",
    "    synthetic_df[col] = synthetic_df[col].round().astype(int)\n",
    "    synthetic_df[col] = synthetic_df[col].apply(lambda x: label_encoders[col].inverse_transform([x])[0] if x < len(label_encoders[col].classes_) else label_encoders[col].classes_[0])\n"
   ]
  },
  {
   "cell_type": "code",
   "execution_count": 13,
   "id": "4f81e759",
   "metadata": {},
   "outputs": [
    {
     "name": "stdout",
     "output_type": "stream",
     "text": [
      "✅ Synthetic data generated and saved at: C:\\Users\\asus\\Desktop\\Masters Project & Thesis\\Master Projects\\Gen Ai Analytics\n"
     ]
    }
   ],
   "source": [
    "# Save synthetic dataset to your desired folder\n",
    "synthetic_df.to_csv(r'C:\\Users\\asus\\Desktop\\Masters Project & Thesis\\Master Projects\\Gen Ai Analytics\\synthetic_customer_data.csv', index=False)\n",
    "print(\"✅ Synthetic data generated and saved at: C:\\\\Users\\\\asus\\\\Desktop\\\\Masters Project & Thesis\\\\Master Projects\\\\Gen Ai Analytics\")\n"
   ]
  },
  {
   "cell_type": "code",
   "execution_count": 14,
   "id": "45765990",
   "metadata": {},
   "outputs": [
    {
     "name": "stdout",
     "output_type": "stream",
     "text": [
      "✅ GAN models saved in '../models/'\n"
     ]
    }
   ],
   "source": [
    "# Create models directory if not exists\n",
    "import os\n",
    "os.makedirs('../models', exist_ok=True)\n",
    "\n",
    "# Save generator model\n",
    "torch.save(generator.state_dict(), '../models/gan_generator.pth')\n",
    "\n",
    "# Save discriminator model (optional)\n",
    "torch.save(discriminator.state_dict(), '../models/gan_discriminator.pth')\n",
    "\n",
    "print(\"✅ GAN models saved in '../models/'\")\n"
   ]
  },
  {
   "cell_type": "code",
   "execution_count": 17,
   "id": "9f49e946",
   "metadata": {},
   "outputs": [],
   "source": [
    "class Generator(nn.Module):\n",
    "    def __init__(self, input_size, hidden_size, output_size):\n",
    "        super(Generator, self).__init__()\n",
    "        self.model = nn.Sequential(\n",
    "            nn.Linear(input_size, hidden_size),\n",
    "            nn.ReLU(),\n",
    "            nn.Linear(hidden_size, output_size),\n",
    "            nn.Tanh()\n",
    "        )\n",
    "\n",
    "    def forward(self, x):\n",
    "        return self.model(x)\n",
    "\n",
    "\n"
   ]
  },
  {
   "cell_type": "code",
   "execution_count": 19,
   "id": "cfd9174b",
   "metadata": {},
   "outputs": [
    {
     "ename": "TypeError",
     "evalue": "Generator.__init__() missing 3 required positional arguments: 'input_size', 'hidden_size', and 'output_size'",
     "output_type": "error",
     "traceback": [
      "\u001b[31m---------------------------------------------------------------------------\u001b[39m",
      "\u001b[31mTypeError\u001b[39m                                 Traceback (most recent call last)",
      "\u001b[36mCell\u001b[39m\u001b[36m \u001b[39m\u001b[32mIn[19]\u001b[39m\u001b[32m, line 2\u001b[39m\n\u001b[32m      1\u001b[39m \u001b[38;5;66;03m# Initialize generator with exact same architecture\u001b[39;00m\n\u001b[32m----> \u001b[39m\u001b[32m2\u001b[39m generator = \u001b[43mGenerator\u001b[49m\u001b[43m(\u001b[49m\u001b[43m)\u001b[49m  \u001b[38;5;66;03m# use same constructor as during training\u001b[39;00m\n\u001b[32m      3\u001b[39m generator.load_state_dict(torch.load(\u001b[33m'\u001b[39m\u001b[33m../models/gan_generator.pth\u001b[39m\u001b[33m'\u001b[39m))\n\u001b[32m      4\u001b[39m generator.eval()\n",
      "\u001b[31mTypeError\u001b[39m: Generator.__init__() missing 3 required positional arguments: 'input_size', 'hidden_size', and 'output_size'"
     ]
    }
   ],
   "source": [
    "# Initialize generator with exact same architecture\n",
    "generator = Generator()  # use same constructor as during training\n",
    "generator.load_state_dict(torch.load('../models/gan_generator.pth'))\n",
    "generator.eval()\n",
    "print(\"✅ GAN Generator model loaded successfully!\")\n",
    "\n"
   ]
  }
 ],
 "metadata": {
  "kernelspec": {
   "display_name": "Python 3",
   "language": "python",
   "name": "python3"
  },
  "language_info": {
   "codemirror_mode": {
    "name": "ipython",
    "version": 3
   },
   "file_extension": ".py",
   "mimetype": "text/x-python",
   "name": "python",
   "nbconvert_exporter": "python",
   "pygments_lexer": "ipython3",
   "version": "3.11.9"
  }
 },
 "nbformat": 4,
 "nbformat_minor": 5
}
